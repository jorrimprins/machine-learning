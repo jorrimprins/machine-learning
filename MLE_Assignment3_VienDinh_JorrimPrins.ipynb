{
 "cells": [
  {
   "cell_type": "markdown",
   "metadata": {},
   "source": [
    "# Assignment 3: Predicting the probability of default of credit card clients\n",
    "\n",
    "**Deadline**:  Tue 10-Dec 2019, 23:59\n",
    "\n",
    "|Nr|**Name**|**Student ID**|**Email**|\n",
    "|--|--------|--------------|---------|\n",
    "|1.|Vien Dinh       |11002115             |viendinh17@gmail.com        |\n",
    "|2.|Jorrim Prins        |11038934              |jorrim.prins@hotmail.com         |\n",
    "|3.|        |              |         |\n",
    "\n",
    "**Declaration of Originality**\n",
    "\n",
    "We whose names are given under 1., 2. and 3. above declare that:\n",
    "1. These solutions are solely our own work.\n",
    "2. We have not made (part of) these solutions available to any other student.\n",
    "3. We shall not engage in any other activities that will dishonestly improve my results or dishonestly improve or hurt the results of others.\n",
    "\n",
    "## Instructions for completing and submitting the assignment\n",
    "Please pay attention to the following instructions:\n",
    "1. Please follow carefully the steps outlined in the assignment. If you cannot solve an exercise and this hinders continuing with subsequent exercises, try to find a way to work around it and give a clear explanation for the solution you have chosen.\n",
    "2. Submit your work in the form of a Jupyter notebook via Canvas, before the deadline. Your notebook should not give errors when executed with `Run All`.\n",
    "3. Most of your answers will consist of code. Make sure your code is well structured, efficient and provided with comments where needed. These aspects will be taken into account in the grading of your work.\n",
    "4. Sometimes you are asked to explain your code or to motivate your choices. Please be concise and use your own words in answering those questions.\n",
    "5. You are allowed to work on the assignment in groups of 2 or 3 students and to submit together.\n",
    "\n",
    "## Goal\n",
    "The goal of this assignment is to predict the probability of default of credit card clients using\n",
    "- logistic regression\n",
    "- neural network\n",
    "- random forest\n",
    "- AdaBoost\n",
    "\n",
    "Using the techniques mentioned above, we ask you to come up with a model that has the best generalization performance.\n",
    "\n",
    "\n",
    "## Test set\n",
    "There are 30,000 observations, but for only the first 25,000 the target values are given. The other 5,000 target values will be used to assess your performance. The assignment is also a competition:  your mark (20%) depends on how well your model does on the test set compared to those of other groups."
   ]
  },
  {
   "cell_type": "markdown",
   "metadata": {},
   "source": [
    "# Initialize and get the data\n",
    "\n",
    "First, we initialize some libraries, define an overlay histogram & a nice graphical confusion matrix, and read the data."
   ]
  },
  {
   "cell_type": "code",
   "execution_count": 245,
   "metadata": {},
   "outputs": [],
   "source": [
    "import pandas as pd\n",
    "from pandas import Series, DataFrame\n",
    "import numpy as np\n",
    "import itertools\n",
    "import matplotlib.pyplot as plt\n",
    "%matplotlib inline\n",
    "\n",
    "def draw_histogram(varname):\n",
    "    x0=df[varname][df.Y==0]\n",
    "    x1=df[varname][df.Y==1]\n",
    "    count0, bin_limits = np.histogram(x0,bins=30)\n",
    "    count1, _          = np.histogram(x1,bins=bin_limits)\n",
    "    plt.hist(x0,bins=bin_limits,color='LightBlue')\n",
    "    plt.hist(x1,bins=bin_limits,color='DarkRed')\n",
    "    ### normalized overlay histogram\n",
    "    count_tot=count0+count1\n",
    "    with np.errstate(divide='ignore',invalid='ignore'):\n",
    "        count0rel=np.where(count_tot==0,np.nan,count0/(count0+count1))\n",
    "        count1rel=np.where(count_tot==0,np.nan,count1/(count0+count1))\n",
    "    labels=np.round((bin_limits[1:]+bin_limits[:-1])/2,1)    # determine middle of classes\n",
    "    DataFrame({'0':count0rel,'1':count1rel},index=labels)[['1','0']].plot.bar(stacked=True,color=('DarkRed','LightBlue'));\n",
    "\n",
    "def plot_confusion_matrix(cm, classes,\n",
    "                          normalize=False,\n",
    "                          title='Confusion matrix',\n",
    "                          cmap=plt.cm.Blues):\n",
    "    \"\"\"\n",
    "    This function prints and plots the confusion matrix.\n",
    "    Normalization can be applied by setting `normalize=True`.\n",
    "    \"\"\"\n",
    "    plt.imshow(cm, interpolation='nearest', cmap=cmap)\n",
    "    plt.title(title)\n",
    "    plt.colorbar()\n",
    "    tick_marks = np.arange(len(classes))\n",
    "    plt.xticks(tick_marks, classes, rotation=0)\n",
    "    plt.yticks(tick_marks, classes)\n",
    "\n",
    "    if normalize:\n",
    "        cm = cm.astype('float') / cm.sum(axis=1)[:, np.newaxis]\n",
    "\n",
    "    thresh = cm.max() / 2.\n",
    "    for i, j in itertools.product(range(cm.shape[0]), range(cm.shape[1])):\n",
    "        plt.text(j, i, cm[i, j],\n",
    "                 horizontalalignment=\"center\",\n",
    "                 color=\"white\" if cm[i, j] > thresh else \"black\")\n",
    "\n",
    "    plt.tight_layout()\n",
    "    plt.ylabel('True label')\n",
    "    plt.xlabel('Predicted label')\n",
    "    \n",
    "df = pd.read_csv('MLE_Assignment3_data2019.csv')\n",
    "df_labels=['LIMIT_BAL','SEX','EDUCATION','MARRIAGE','AGE','PAY_0','PAY_2','PAY_3','PAY_4','PAY_5','PAY_6','BILL_AMT1','BILL_AMT2','BILL_AMT3',\n",
    "'BILL_AMT4','BILL_AMT5','BILL_AMT6','PAY_AMT1','PAY_AMT2','PAY_AMT3','PAY_AMT4','PAY_AMT5','PAY_AMT6','default payment next month']\n",
    "df.columns\n",
    "df_t=df['Y']                # select target variabel (as pandas series)\n",
    "df_X=df.loc[:,'X1':'X23']   # select features (as pandas dataframe)"
   ]
  },
  {
   "cell_type": "markdown",
   "metadata": {},
   "source": [
    "## Rate of default: around 22%"
   ]
  },
  {
   "cell_type": "code",
   "execution_count": 246,
   "metadata": {},
   "outputs": [
    {
     "name": "stdout",
     "output_type": "stream",
     "text": [
      "0.0    0.78012\n",
      "1.0    0.21988\n",
      "Name: Y, dtype: float64\n"
     ]
    },
    {
     "data": {
      "image/png": "[encoded data removed]",
      "text/plain": [
       "<Figure size 432x432 with 1 Axes>"
      ]
     },
     "metadata": {},
     "output_type": "display_data"
    }
   ],
   "source": [
    "freq=df_t.value_counts()/(len(df_t)-df_t.isnull().sum())\n",
    "freq.plot(kind='pie',title='Probability of default',figsize=(6, 6)); \n",
    "print(freq)"
   ]
  },
  {
   "cell_type": "markdown",
   "metadata": {},
   "source": [
    "## Definition of variables\n",
    "\n",
    "This assignment employs a binary variable, default payment (Yes = 1, No = 0), as the response variable `t` in October 2005 from an important bank in Taiwan. The data consist of the following 23 variables as explanatory variables: \n",
    "\n",
    "- `X1`: Amount of the given credit (NT dollar=New Taiwan $): it includes both the individual consumer credit and his/her family (supplementary) credit. \n",
    "- `X2`: Gender (1 = male; 2 = female). \n",
    "- `X3`: Education (1 = graduate school; 2 = university; 3 = high school; 4 = others). \n",
    "- `X4`: Marital status (1 = married; 2 = single; 3 = others). \n",
    "- `X5`: Age (years). \n",
    "- `X6 - X11`: History of past payment. We tracked the past monthly payment records (from April to September, 2005) as follows: `X6` = the repayment status in September, 2005; `X7` = the repayment status in August, 2005; . . .;`X11` = the repayment status in April, 2005. The measurement scale for the repayment status is: -1 = pay duly; 1 = payment delay for one month; 2 = payment delay for two months; . . .; 8 = payment delay for eight months; 9 = payment delay for nine months and above. \n",
    "- `X12-X17`: Amount of bill statement (NT dollar). `X12` = amount of bill statement in September, 2005; `X13` = amount of bill statement in August, 2005; . . .; `X17` = amount of bill statement in April, 2005. \n",
    "- `X18-X23`: Amount of previous payment (NT dollar). `X18` = amount paid in September, 2005; `X19` = amount paid in August, 2005; . . .;`X23` = amount paid in April, 2005. "
   ]
  },
  {
   "cell_type": "markdown",
   "metadata": {},
   "source": [
    "# Creating features\n",
    "\n",
    "Some variable (at least `X2`-`X4`) have to be dummified. We start with `X1` and add columns to the dataframe. Also add X5 (age) to the dataframe, does not have to be dummified."
   ]
  },
  {
   "cell_type": "code",
   "execution_count": 247,
   "metadata": {},
   "outputs": [],
   "source": [
    "data=pd.DataFrame(df['X1'],columns=['X1'])\n",
    "X2_dum=pd.get_dummies(df['X2'], prefix='X2',drop_first=True)\n",
    "data=pd.merge(data,X2_dum,left_index=True, right_index=True)\n",
    "X3_dum=pd.get_dummies(df['X3'], prefix='X3',drop_first=True)\n",
    "data=pd.merge(data,X3_dum,left_index=True, right_index=True)\n",
    "X4_dum=pd.get_dummies(df['X4'], prefix='X4',drop_first=True)\n",
    "data=pd.merge(data,X4_dum,left_index=True, right_index=True)"
   ]
  },
  {
   "cell_type": "markdown",
   "metadata": {},
   "source": [
    "## Should `X6-X17` be dummified?\n",
    "\n",
    "You can use `draw_histogram()` to create overlay histograms. The first histogram shows the absolute frequencies, where red bars indicate defaults. The second one shows the normalized frequencies. In this way we can judge whether the effect is linear or not. Below, we look at the variable `X6`."
   ]
  },
  {
   "cell_type": "code",
   "execution_count": 248,
   "metadata": {},
   "outputs": [
    {
     "data": {
      "image/png": "[encoded data removed]",
      "text/plain": [
       "<Figure size 432x288 with 1 Axes>"
      ]
     },
     "metadata": {
      "needs_background": "light"
     },
     "output_type": "display_data"
    },
    {
     "data": {
      "image/png": "[encoded data removed]",
      "text/plain": [
       "<Figure size 432x288 with 1 Axes>"
      ]
     },
     "metadata": {
      "needs_background": "light"
     },
     "output_type": "display_data"
    }
   ],
   "source": [
    "draw_histogram('X17')"
   ]
  },
  {
   "cell_type": "markdown",
   "metadata": {},
   "source": [
    "## X6-X11 Have to be dummified\n",
    "\n",
    "\n",
    "\n",
    "<span style=\"color:red\"> Histograms, and specifically the normalized histograms, show a significant difference in default rate when discrete values for X6-X11 are 2 or higher, so we decide to create dummies that have value 1 for X# >= 2 and 0 for X# < 2. See below.</span>"
   ]
  },
  {
   "cell_type": "code",
   "execution_count": 249,
   "metadata": {},
   "outputs": [],
   "source": [
    "df['X6'] = np.array(df['X6'] >= 2).astype(int)\n",
    "df['X7'] = np.array(df['X7'] >= 2).astype(int)\n",
    "df['X8']= np.array(df['X8'] >= 2).astype(int)\n",
    "df['X9'] = np.array(df['X9'] >= 2).astype(int)\n",
    "df['X10'] = np.array(df['X10'] >= 2).astype(int)\n",
    "df['X11'] = np.array(df['X11'] >= 2).astype(int)"
   ]
  },
  {
   "cell_type": "markdown",
   "metadata": {},
   "source": [
    "## Finalizing the features\n",
    "\n",
    "Below, we choose to not dummify the variables `X6`-`X17` out of convenience. Whether this is justified is up to you.<BR> Furthermore, non-dummy variables are standardized.<BR>\n",
    "Some procedures require numpy array/matrix, so this is also defined. `Xlabels[i]` gives the label of `X[:,i]`."
   ]
  },
  {
   "cell_type": "markdown",
   "metadata": {},
   "source": [
    "<span style=\"color:red\"> As mentioned above, we have dummified variables X6-X11</span>"
   ]
  },
  {
   "cell_type": "code",
   "execution_count": 250,
   "metadata": {},
   "outputs": [
    {
     "data": {
      "text/html": [
       "<div>\n",
       "<style scoped>\n",
       "    .dataframe tbody tr th:only-of-type {\n",
       "        vertical-align: middle;\n",
       "    }\n",
       "\n",
       "    .dataframe tbody tr th {\n",
       "        vertical-align: top;\n",
       "    }\n",
       "\n",
       "    .dataframe thead th {\n",
       "        text-align: right;\n",
       "    }\n",
       "</style>\n",
       "<table border=\"1\" class=\"dataframe\">\n",
       "  <thead>\n",
       "    <tr style=\"text-align: right;\">\n",
       "      <th></th>\n",
       "      <th>X1</th>\n",
       "      <th>X2_2</th>\n",
       "      <th>X3_1</th>\n",
       "      <th>X3_2</th>\n",
       "      <th>X3_3</th>\n",
       "      <th>X3_4</th>\n",
       "      <th>X3_5</th>\n",
       "      <th>X3_6</th>\n",
       "      <th>X4_1</th>\n",
       "      <th>X4_2</th>\n",
       "      <th>...</th>\n",
       "      <th>X14</th>\n",
       "      <th>X15</th>\n",
       "      <th>X16</th>\n",
       "      <th>X17</th>\n",
       "      <th>X18</th>\n",
       "      <th>X19</th>\n",
       "      <th>X20</th>\n",
       "      <th>X21</th>\n",
       "      <th>X22</th>\n",
       "      <th>X23</th>\n",
       "    </tr>\n",
       "  </thead>\n",
       "  <tbody>\n",
       "    <tr>\n",
       "      <th>count</th>\n",
       "      <td>3.000000e+04</td>\n",
       "      <td>30000.000000</td>\n",
       "      <td>30000.000000</td>\n",
       "      <td>30000.000000</td>\n",
       "      <td>30000.000000</td>\n",
       "      <td>30000.000000</td>\n",
       "      <td>30000.000000</td>\n",
       "      <td>30000.000000</td>\n",
       "      <td>30000.000000</td>\n",
       "      <td>30000.000000</td>\n",
       "      <td>...</td>\n",
       "      <td>3.000000e+04</td>\n",
       "      <td>3.000000e+04</td>\n",
       "      <td>3.000000e+04</td>\n",
       "      <td>3.000000e+04</td>\n",
       "      <td>3.000000e+04</td>\n",
       "      <td>3.000000e+04</td>\n",
       "      <td>3.000000e+04</td>\n",
       "      <td>3.000000e+04</td>\n",
       "      <td>3.000000e+04</td>\n",
       "      <td>3.000000e+04</td>\n",
       "    </tr>\n",
       "    <tr>\n",
       "      <th>mean</th>\n",
       "      <td>-1.905890e-15</td>\n",
       "      <td>0.603733</td>\n",
       "      <td>0.352833</td>\n",
       "      <td>0.467667</td>\n",
       "      <td>0.163900</td>\n",
       "      <td>0.004100</td>\n",
       "      <td>0.009333</td>\n",
       "      <td>0.001700</td>\n",
       "      <td>0.455300</td>\n",
       "      <td>0.532133</td>\n",
       "      <td>...</td>\n",
       "      <td>-1.715295e-17</td>\n",
       "      <td>1.658303e-17</td>\n",
       "      <td>6.371570e-17</td>\n",
       "      <td>-3.479069e-17</td>\n",
       "      <td>-4.753753e-16</td>\n",
       "      <td>2.400626e-16</td>\n",
       "      <td>5.278648e-17</td>\n",
       "      <td>1.159776e-16</td>\n",
       "      <td>2.276105e-16</td>\n",
       "      <td>-9.278837e-16</td>\n",
       "    </tr>\n",
       "    <tr>\n",
       "      <th>std</th>\n",
       "      <td>1.000000e+00</td>\n",
       "      <td>0.489129</td>\n",
       "      <td>0.477859</td>\n",
       "      <td>0.498962</td>\n",
       "      <td>0.370191</td>\n",
       "      <td>0.063901</td>\n",
       "      <td>0.096159</td>\n",
       "      <td>0.041197</td>\n",
       "      <td>0.498006</td>\n",
       "      <td>0.498975</td>\n",
       "      <td>...</td>\n",
       "      <td>1.000000e+00</td>\n",
       "      <td>1.000000e+00</td>\n",
       "      <td>1.000000e+00</td>\n",
       "      <td>1.000000e+00</td>\n",
       "      <td>1.000000e+00</td>\n",
       "      <td>1.000000e+00</td>\n",
       "      <td>1.000000e+00</td>\n",
       "      <td>1.000000e+00</td>\n",
       "      <td>1.000000e+00</td>\n",
       "      <td>1.000000e+00</td>\n",
       "    </tr>\n",
       "    <tr>\n",
       "      <th>min</th>\n",
       "      <td>-1.213774e+00</td>\n",
       "      <td>0.000000</td>\n",
       "      <td>0.000000</td>\n",
       "      <td>0.000000</td>\n",
       "      <td>0.000000</td>\n",
       "      <td>0.000000</td>\n",
       "      <td>0.000000</td>\n",
       "      <td>0.000000</td>\n",
       "      <td>0.000000</td>\n",
       "      <td>0.000000</td>\n",
       "      <td>...</td>\n",
       "      <td>-2.945623e+00</td>\n",
       "      <td>-3.314993e+00</td>\n",
       "      <td>-2.000840e+00</td>\n",
       "      <td>-6.355141e+00</td>\n",
       "      <td>-3.419359e-01</td>\n",
       "      <td>-2.569852e-01</td>\n",
       "      <td>-2.967963e-01</td>\n",
       "      <td>-3.080574e-01</td>\n",
       "      <td>-3.141309e-01</td>\n",
       "      <td>-2.933772e-01</td>\n",
       "    </tr>\n",
       "    <tr>\n",
       "      <th>25%</th>\n",
       "      <td>-9.054832e-01</td>\n",
       "      <td>0.000000</td>\n",
       "      <td>0.000000</td>\n",
       "      <td>0.000000</td>\n",
       "      <td>0.000000</td>\n",
       "      <td>0.000000</td>\n",
       "      <td>0.000000</td>\n",
       "      <td>0.000000</td>\n",
       "      <td>0.000000</td>\n",
       "      <td>0.000000</td>\n",
       "      <td>...</td>\n",
       "      <td>-6.394708e-01</td>\n",
       "      <td>-6.363187e-01</td>\n",
       "      <td>-6.340494e-01</td>\n",
       "      <td>-6.316233e-01</td>\n",
       "      <td>-2.815614e-01</td>\n",
       "      <td>-2.208321e-01</td>\n",
       "      <td>-2.746460e-01</td>\n",
       "      <td>-2.891632e-01</td>\n",
       "      <td>-2.976042e-01</td>\n",
       "      <td>-2.867536e-01</td>\n",
       "    </tr>\n",
       "    <tr>\n",
       "      <th>50%</th>\n",
       "      <td>-2.118290e-01</td>\n",
       "      <td>1.000000</td>\n",
       "      <td>0.000000</td>\n",
       "      <td>0.000000</td>\n",
       "      <td>0.000000</td>\n",
       "      <td>0.000000</td>\n",
       "      <td>0.000000</td>\n",
       "      <td>0.000000</td>\n",
       "      <td>0.000000</td>\n",
       "      <td>1.000000</td>\n",
       "      <td>...</td>\n",
       "      <td>-3.882465e-01</td>\n",
       "      <td>-3.763388e-01</td>\n",
       "      <td>-3.652622e-01</td>\n",
       "      <td>-3.660664e-01</td>\n",
       "      <td>-2.151494e-01</td>\n",
       "      <td>-1.697923e-01</td>\n",
       "      <td>-1.945640e-01</td>\n",
       "      <td>-2.123096e-01</td>\n",
       "      <td>-2.159525e-01</td>\n",
       "      <td>-2.090007e-01</td>\n",
       "    </tr>\n",
       "    <tr>\n",
       "      <th>75%</th>\n",
       "      <td>5.588978e-01</td>\n",
       "      <td>1.000000</td>\n",
       "      <td>1.000000</td>\n",
       "      <td>1.000000</td>\n",
       "      <td>0.000000</td>\n",
       "      <td>0.000000</td>\n",
       "      <td>0.000000</td>\n",
       "      <td>0.000000</td>\n",
       "      <td>1.000000</td>\n",
       "      <td>1.000000</td>\n",
       "      <td>...</td>\n",
       "      <td>1.896426e-01</td>\n",
       "      <td>1.747637e-01</td>\n",
       "      <td>1.624928e-01</td>\n",
       "      <td>1.733968e-01</td>\n",
       "      <td>-3.970110e-02</td>\n",
       "      <td>-3.997954e-02</td>\n",
       "      <td>-4.093162e-02</td>\n",
       "      <td>-5.188424e-02</td>\n",
       "      <td>-5.026000e-02</td>\n",
       "      <td>-6.837322e-02</td>\n",
       "    </tr>\n",
       "    <tr>\n",
       "      <th>max</th>\n",
       "      <td>6.416421e+00</td>\n",
       "      <td>1.000000</td>\n",
       "      <td>1.000000</td>\n",
       "      <td>1.000000</td>\n",
       "      <td>1.000000</td>\n",
       "      <td>1.000000</td>\n",
       "      <td>1.000000</td>\n",
       "      <td>1.000000</td>\n",
       "      <td>1.000000</td>\n",
       "      <td>1.000000</td>\n",
       "      <td>...</td>\n",
       "      <td>2.331781e+01</td>\n",
       "      <td>1.318647e+01</td>\n",
       "      <td>1.458719e+01</td>\n",
       "      <td>1.549502e+01</td>\n",
       "      <td>5.239834e+01</td>\n",
       "      <td>7.284177e+01</td>\n",
       "      <td>5.059444e+01</td>\n",
       "      <td>3.933152e+01</td>\n",
       "      <td>2.760317e+01</td>\n",
       "      <td>2.944461e+01</td>\n",
       "    </tr>\n",
       "  </tbody>\n",
       "</table>\n",
       "<p>8 rows × 30 columns</p>\n",
       "</div>"
      ],
      "text/plain": [
       "                 X1          X2_2          X3_1          X3_2          X3_3  \\\n",
       "count  3.000000e+04  30000.000000  30000.000000  30000.000000  30000.000000   \n",
       "mean  -1.905890e-15      0.603733      0.352833      0.467667      0.163900   \n",
       "std    1.000000e+00      0.489129      0.477859      0.498962      0.370191   \n",
       "min   -1.213774e+00      0.000000      0.000000      0.000000      0.000000   \n",
       "25%   -9.054832e-01      0.000000      0.000000      0.000000      0.000000   \n",
       "50%   -2.118290e-01      1.000000      0.000000      0.000000      0.000000   \n",
       "75%    5.588978e-01      1.000000      1.000000      1.000000      0.000000   \n",
       "max    6.416421e+00      1.000000      1.000000      1.000000      1.000000   \n",
       "\n",
       "               X3_4          X3_5          X3_6          X4_1          X4_2  \\\n",
       "count  30000.000000  30000.000000  30000.000000  30000.000000  30000.000000   \n",
       "mean       0.004100      0.009333      0.001700      0.455300      0.532133   \n",
       "std        0.063901      0.096159      0.041197      0.498006      0.498975   \n",
       "min        0.000000      0.000000      0.000000      0.000000      0.000000   \n",
       "25%        0.000000      0.000000      0.000000      0.000000      0.000000   \n",
       "50%        0.000000      0.000000      0.000000      0.000000      1.000000   \n",
       "75%        0.000000      0.000000      0.000000      1.000000      1.000000   \n",
       "max        1.000000      1.000000      1.000000      1.000000      1.000000   \n",
       "\n",
       "       ...           X14           X15           X16           X17  \\\n",
       "count  ...  3.000000e+04  3.000000e+04  3.000000e+04  3.000000e+04   \n",
       "mean   ... -1.715295e-17  1.658303e-17  6.371570e-17 -3.479069e-17   \n",
       "std    ...  1.000000e+00  1.000000e+00  1.000000e+00  1.000000e+00   \n",
       "min    ... -2.945623e+00 -3.314993e+00 -2.000840e+00 -6.355141e+00   \n",
       "25%    ... -6.394708e-01 -6.363187e-01 -6.340494e-01 -6.316233e-01   \n",
       "50%    ... -3.882465e-01 -3.763388e-01 -3.652622e-01 -3.660664e-01   \n",
       "75%    ...  1.896426e-01  1.747637e-01  1.624928e-01  1.733968e-01   \n",
       "max    ...  2.331781e+01  1.318647e+01  1.458719e+01  1.549502e+01   \n",
       "\n",
       "                X18           X19           X20           X21           X22  \\\n",
       "count  3.000000e+04  3.000000e+04  3.000000e+04  3.000000e+04  3.000000e+04   \n",
       "mean  -4.753753e-16  2.400626e-16  5.278648e-17  1.159776e-16  2.276105e-16   \n",
       "std    1.000000e+00  1.000000e+00  1.000000e+00  1.000000e+00  1.000000e+00   \n",
       "min   -3.419359e-01 -2.569852e-01 -2.967963e-01 -3.080574e-01 -3.141309e-01   \n",
       "25%   -2.815614e-01 -2.208321e-01 -2.746460e-01 -2.891632e-01 -2.976042e-01   \n",
       "50%   -2.151494e-01 -1.697923e-01 -1.945640e-01 -2.123096e-01 -2.159525e-01   \n",
       "75%   -3.970110e-02 -3.997954e-02 -4.093162e-02 -5.188424e-02 -5.026000e-02   \n",
       "max    5.239834e+01  7.284177e+01  5.059444e+01  3.933152e+01  2.760317e+01   \n",
       "\n",
       "                X23  \n",
       "count  3.000000e+04  \n",
       "mean  -9.278837e-16  \n",
       "std    1.000000e+00  \n",
       "min   -2.933772e-01  \n",
       "25%   -2.867536e-01  \n",
       "50%   -2.090007e-01  \n",
       "75%   -6.837322e-02  \n",
       "max    2.944461e+01  \n",
       "\n",
       "[8 rows x 30 columns]"
      ]
     },
     "execution_count": 250,
     "metadata": {},
     "output_type": "execute_result"
    }
   ],
   "source": [
    "data=pd.merge(data,df.loc[:,'X5':'X23'],left_index=True, right_index=True)\n",
    "\n",
    "cols = list(data.columns)\n",
    "for col in cols:   # loop over all columns\n",
    "    if np.abs(data[col].mean())>1:    # check if dummy\n",
    "        data[col] = (data[col] - data[col].mean())/data[col].std(ddof=1)   # no dummy: than standardize\n",
    "t=df_t.values   # convert to numpy array\n",
    "X=data.values   # convert to numpy matrix\n",
    "Xlabels=data.columns\n",
    "data.describe()"
   ]
  },
  {
   "cell_type": "markdown",
   "metadata": {},
   "source": [
    "## Create undummified dataset and preprocess\n",
    "\n",
    "<span style=\"color:red\">We create a similar dataset without all the dummies to check this in our random forest models.</span>"
   ]
  },
  {
   "cell_type": "code",
   "execution_count": 251,
   "metadata": {},
   "outputs": [
    {
     "data": {
      "text/html": [
       "<div>\n",
       "<style scoped>\n",
       "    .dataframe tbody tr th:only-of-type {\n",
       "        vertical-align: middle;\n",
       "    }\n",
       "\n",
       "    .dataframe tbody tr th {\n",
       "        vertical-align: top;\n",
       "    }\n",
       "\n",
       "    .dataframe thead th {\n",
       "        text-align: right;\n",
       "    }\n",
       "</style>\n",
       "<table border=\"1\" class=\"dataframe\">\n",
       "  <thead>\n",
       "    <tr style=\"text-align: right;\">\n",
       "      <th></th>\n",
       "      <th>X1</th>\n",
       "      <th>X2</th>\n",
       "      <th>X3</th>\n",
       "      <th>X4</th>\n",
       "      <th>X5</th>\n",
       "      <th>X6</th>\n",
       "      <th>X7</th>\n",
       "      <th>X8</th>\n",
       "      <th>X9</th>\n",
       "      <th>X10</th>\n",
       "      <th>...</th>\n",
       "      <th>X14</th>\n",
       "      <th>X15</th>\n",
       "      <th>X16</th>\n",
       "      <th>X17</th>\n",
       "      <th>X18</th>\n",
       "      <th>X19</th>\n",
       "      <th>X20</th>\n",
       "      <th>X21</th>\n",
       "      <th>X22</th>\n",
       "      <th>X23</th>\n",
       "    </tr>\n",
       "  </thead>\n",
       "  <tbody>\n",
       "    <tr>\n",
       "      <th>count</th>\n",
       "      <td>3.000000e+04</td>\n",
       "      <td>3.000000e+04</td>\n",
       "      <td>3.000000e+04</td>\n",
       "      <td>3.000000e+04</td>\n",
       "      <td>3.000000e+04</td>\n",
       "      <td>30000.000000</td>\n",
       "      <td>30000.000000</td>\n",
       "      <td>30000.000000</td>\n",
       "      <td>30000.000000</td>\n",
       "      <td>30000.000000</td>\n",
       "      <td>...</td>\n",
       "      <td>3.000000e+04</td>\n",
       "      <td>3.000000e+04</td>\n",
       "      <td>3.000000e+04</td>\n",
       "      <td>3.000000e+04</td>\n",
       "      <td>3.000000e+04</td>\n",
       "      <td>3.000000e+04</td>\n",
       "      <td>3.000000e+04</td>\n",
       "      <td>3.000000e+04</td>\n",
       "      <td>3.000000e+04</td>\n",
       "      <td>3.000000e+04</td>\n",
       "    </tr>\n",
       "    <tr>\n",
       "      <th>mean</th>\n",
       "      <td>-1.905890e-15</td>\n",
       "      <td>1.207508e-15</td>\n",
       "      <td>-5.744868e-16</td>\n",
       "      <td>-5.824082e-16</td>\n",
       "      <td>-9.309960e-17</td>\n",
       "      <td>-0.016700</td>\n",
       "      <td>-0.133767</td>\n",
       "      <td>-0.166200</td>\n",
       "      <td>-0.220667</td>\n",
       "      <td>-0.266200</td>\n",
       "      <td>...</td>\n",
       "      <td>-1.715295e-17</td>\n",
       "      <td>1.658303e-17</td>\n",
       "      <td>6.371570e-17</td>\n",
       "      <td>-3.479069e-17</td>\n",
       "      <td>-4.753753e-16</td>\n",
       "      <td>2.400626e-16</td>\n",
       "      <td>5.278648e-17</td>\n",
       "      <td>1.159776e-16</td>\n",
       "      <td>2.276105e-16</td>\n",
       "      <td>-9.278837e-16</td>\n",
       "    </tr>\n",
       "    <tr>\n",
       "      <th>std</th>\n",
       "      <td>1.000000e+00</td>\n",
       "      <td>1.000000e+00</td>\n",
       "      <td>1.000000e+00</td>\n",
       "      <td>1.000000e+00</td>\n",
       "      <td>1.000000e+00</td>\n",
       "      <td>1.123802</td>\n",
       "      <td>1.197186</td>\n",
       "      <td>1.196868</td>\n",
       "      <td>1.169139</td>\n",
       "      <td>1.133187</td>\n",
       "      <td>...</td>\n",
       "      <td>1.000000e+00</td>\n",
       "      <td>1.000000e+00</td>\n",
       "      <td>1.000000e+00</td>\n",
       "      <td>1.000000e+00</td>\n",
       "      <td>1.000000e+00</td>\n",
       "      <td>1.000000e+00</td>\n",
       "      <td>1.000000e+00</td>\n",
       "      <td>1.000000e+00</td>\n",
       "      <td>1.000000e+00</td>\n",
       "      <td>1.000000e+00</td>\n",
       "    </tr>\n",
       "    <tr>\n",
       "      <th>min</th>\n",
       "      <td>-1.213774e+00</td>\n",
       "      <td>-1.234302e+00</td>\n",
       "      <td>-2.344704e+00</td>\n",
       "      <td>-2.973098e+00</td>\n",
       "      <td>-1.571453e+00</td>\n",
       "      <td>-2.000000</td>\n",
       "      <td>-2.000000</td>\n",
       "      <td>-2.000000</td>\n",
       "      <td>-2.000000</td>\n",
       "      <td>-2.000000</td>\n",
       "      <td>...</td>\n",
       "      <td>-2.945623e+00</td>\n",
       "      <td>-3.314993e+00</td>\n",
       "      <td>-2.000840e+00</td>\n",
       "      <td>-6.355141e+00</td>\n",
       "      <td>-3.419359e-01</td>\n",
       "      <td>-2.569852e-01</td>\n",
       "      <td>-2.967963e-01</td>\n",
       "      <td>-3.080574e-01</td>\n",
       "      <td>-3.141309e-01</td>\n",
       "      <td>-2.933772e-01</td>\n",
       "    </tr>\n",
       "    <tr>\n",
       "      <th>25%</th>\n",
       "      <td>-9.054832e-01</td>\n",
       "      <td>-1.234302e+00</td>\n",
       "      <td>-1.079439e+00</td>\n",
       "      <td>-1.057277e+00</td>\n",
       "      <td>-8.120610e-01</td>\n",
       "      <td>-1.000000</td>\n",
       "      <td>-1.000000</td>\n",
       "      <td>-1.000000</td>\n",
       "      <td>-1.000000</td>\n",
       "      <td>-1.000000</td>\n",
       "      <td>...</td>\n",
       "      <td>-6.394708e-01</td>\n",
       "      <td>-6.363187e-01</td>\n",
       "      <td>-6.340494e-01</td>\n",
       "      <td>-6.316233e-01</td>\n",
       "      <td>-2.815614e-01</td>\n",
       "      <td>-2.208321e-01</td>\n",
       "      <td>-2.746460e-01</td>\n",
       "      <td>-2.891632e-01</td>\n",
       "      <td>-2.976042e-01</td>\n",
       "      <td>-2.867536e-01</td>\n",
       "    </tr>\n",
       "    <tr>\n",
       "      <th>50%</th>\n",
       "      <td>-2.118290e-01</td>\n",
       "      <td>8.101472e-01</td>\n",
       "      <td>1.858252e-01</td>\n",
       "      <td>8.585430e-01</td>\n",
       "      <td>-1.611538e-01</td>\n",
       "      <td>0.000000</td>\n",
       "      <td>0.000000</td>\n",
       "      <td>0.000000</td>\n",
       "      <td>0.000000</td>\n",
       "      <td>0.000000</td>\n",
       "      <td>...</td>\n",
       "      <td>-3.882465e-01</td>\n",
       "      <td>-3.763388e-01</td>\n",
       "      <td>-3.652622e-01</td>\n",
       "      <td>-3.660664e-01</td>\n",
       "      <td>-2.151494e-01</td>\n",
       "      <td>-1.697923e-01</td>\n",
       "      <td>-1.945640e-01</td>\n",
       "      <td>-2.123096e-01</td>\n",
       "      <td>-2.159525e-01</td>\n",
       "      <td>-2.090007e-01</td>\n",
       "    </tr>\n",
       "    <tr>\n",
       "      <th>75%</th>\n",
       "      <td>5.588978e-01</td>\n",
       "      <td>8.101472e-01</td>\n",
       "      <td>1.858252e-01</td>\n",
       "      <td>8.585430e-01</td>\n",
       "      <td>5.982379e-01</td>\n",
       "      <td>0.000000</td>\n",
       "      <td>0.000000</td>\n",
       "      <td>0.000000</td>\n",
       "      <td>0.000000</td>\n",
       "      <td>0.000000</td>\n",
       "      <td>...</td>\n",
       "      <td>1.896426e-01</td>\n",
       "      <td>1.747637e-01</td>\n",
       "      <td>1.624928e-01</td>\n",
       "      <td>1.733968e-01</td>\n",
       "      <td>-3.970110e-02</td>\n",
       "      <td>-3.997954e-02</td>\n",
       "      <td>-4.093162e-02</td>\n",
       "      <td>-5.188424e-02</td>\n",
       "      <td>-5.026000e-02</td>\n",
       "      <td>-6.837322e-02</td>\n",
       "    </tr>\n",
       "    <tr>\n",
       "      <th>max</th>\n",
       "      <td>6.416421e+00</td>\n",
       "      <td>8.101472e-01</td>\n",
       "      <td>5.246883e+00</td>\n",
       "      <td>2.774363e+00</td>\n",
       "      <td>4.720650e+00</td>\n",
       "      <td>8.000000</td>\n",
       "      <td>8.000000</td>\n",
       "      <td>8.000000</td>\n",
       "      <td>8.000000</td>\n",
       "      <td>8.000000</td>\n",
       "      <td>...</td>\n",
       "      <td>2.331781e+01</td>\n",
       "      <td>1.318647e+01</td>\n",
       "      <td>1.458719e+01</td>\n",
       "      <td>1.549502e+01</td>\n",
       "      <td>5.239834e+01</td>\n",
       "      <td>7.284177e+01</td>\n",
       "      <td>5.059444e+01</td>\n",
       "      <td>3.933152e+01</td>\n",
       "      <td>2.760317e+01</td>\n",
       "      <td>2.944461e+01</td>\n",
       "    </tr>\n",
       "  </tbody>\n",
       "</table>\n",
       "<p>8 rows × 23 columns</p>\n",
       "</div>"
      ],
      "text/plain": [
       "                 X1            X2            X3            X4            X5  \\\n",
       "count  3.000000e+04  3.000000e+04  3.000000e+04  3.000000e+04  3.000000e+04   \n",
       "mean  -1.905890e-15  1.207508e-15 -5.744868e-16 -5.824082e-16 -9.309960e-17   \n",
       "std    1.000000e+00  1.000000e+00  1.000000e+00  1.000000e+00  1.000000e+00   \n",
       "min   -1.213774e+00 -1.234302e+00 -2.344704e+00 -2.973098e+00 -1.571453e+00   \n",
       "25%   -9.054832e-01 -1.234302e+00 -1.079439e+00 -1.057277e+00 -8.120610e-01   \n",
       "50%   -2.118290e-01  8.101472e-01  1.858252e-01  8.585430e-01 -1.611538e-01   \n",
       "75%    5.588978e-01  8.101472e-01  1.858252e-01  8.585430e-01  5.982379e-01   \n",
       "max    6.416421e+00  8.101472e-01  5.246883e+00  2.774363e+00  4.720650e+00   \n",
       "\n",
       "                 X6            X7            X8            X9           X10  \\\n",
       "count  30000.000000  30000.000000  30000.000000  30000.000000  30000.000000   \n",
       "mean      -0.016700     -0.133767     -0.166200     -0.220667     -0.266200   \n",
       "std        1.123802      1.197186      1.196868      1.169139      1.133187   \n",
       "min       -2.000000     -2.000000     -2.000000     -2.000000     -2.000000   \n",
       "25%       -1.000000     -1.000000     -1.000000     -1.000000     -1.000000   \n",
       "50%        0.000000      0.000000      0.000000      0.000000      0.000000   \n",
       "75%        0.000000      0.000000      0.000000      0.000000      0.000000   \n",
       "max        8.000000      8.000000      8.000000      8.000000      8.000000   \n",
       "\n",
       "       ...           X14           X15           X16           X17  \\\n",
       "count  ...  3.000000e+04  3.000000e+04  3.000000e+04  3.000000e+04   \n",
       "mean   ... -1.715295e-17  1.658303e-17  6.371570e-17 -3.479069e-17   \n",
       "std    ...  1.000000e+00  1.000000e+00  1.000000e+00  1.000000e+00   \n",
       "min    ... -2.945623e+00 -3.314993e+00 -2.000840e+00 -6.355141e+00   \n",
       "25%    ... -6.394708e-01 -6.363187e-01 -6.340494e-01 -6.316233e-01   \n",
       "50%    ... -3.882465e-01 -3.763388e-01 -3.652622e-01 -3.660664e-01   \n",
       "75%    ...  1.896426e-01  1.747637e-01  1.624928e-01  1.733968e-01   \n",
       "max    ...  2.331781e+01  1.318647e+01  1.458719e+01  1.549502e+01   \n",
       "\n",
       "                X18           X19           X20           X21           X22  \\\n",
       "count  3.000000e+04  3.000000e+04  3.000000e+04  3.000000e+04  3.000000e+04   \n",
       "mean  -4.753753e-16  2.400626e-16  5.278648e-17  1.159776e-16  2.276105e-16   \n",
       "std    1.000000e+00  1.000000e+00  1.000000e+00  1.000000e+00  1.000000e+00   \n",
       "min   -3.419359e-01 -2.569852e-01 -2.967963e-01 -3.080574e-01 -3.141309e-01   \n",
       "25%   -2.815614e-01 -2.208321e-01 -2.746460e-01 -2.891632e-01 -2.976042e-01   \n",
       "50%   -2.151494e-01 -1.697923e-01 -1.945640e-01 -2.123096e-01 -2.159525e-01   \n",
       "75%   -3.970110e-02 -3.997954e-02 -4.093162e-02 -5.188424e-02 -5.026000e-02   \n",
       "max    5.239834e+01  7.284177e+01  5.059444e+01  3.933152e+01  2.760317e+01   \n",
       "\n",
       "                X23  \n",
       "count  3.000000e+04  \n",
       "mean  -9.278837e-16  \n",
       "std    1.000000e+00  \n",
       "min   -2.933772e-01  \n",
       "25%   -2.867536e-01  \n",
       "50%   -2.090007e-01  \n",
       "75%   -6.837322e-02  \n",
       "max    2.944461e+01  \n",
       "\n",
       "[8 rows x 23 columns]"
      ]
     },
     "execution_count": 251,
     "metadata": {},
     "output_type": "execute_result"
    }
   ],
   "source": [
    "data_undum = df_X\n",
    "\n",
    "cols = list(data_undum.columns)\n",
    "for col in cols:   # loop over all columns\n",
    "    if np.abs(data_undum[col].mean())>1:    # check if dummy\n",
    "        data_undum[col] = (data_undum[col] - data_undum[col].mean())/data_undum[col].std(ddof=1)   # no dummy: than standardize\n",
    "X_undum=data_undum.values   # convert to numpy matrix\n",
    "Xlabels_undum=data.columns\n",
    "data_undum.describe()"
   ]
  },
  {
   "cell_type": "markdown",
   "metadata": {},
   "source": [
    "## Training and validation set\n",
    "Note that the test set (last 5,000 observations) cannot be used to assess the predictive accuracy of your model. <BR>\n",
    "Hence, we split out sample (first 25,000 observations) into a training and validation set.<BR>\n",
    "You could also use cross-validation (on the first 25K obs.), but for now we keep it simple."
   ]
  },
  {
   "cell_type": "markdown",
   "metadata": {},
   "source": [
    "<span style=\"color:red\">As we have 25000 observations to train and validate our model, training and validation set are large enough and we choose not to use cross-validation. This would be very time consuming and unnecessary.</span>"
   ]
  },
  {
   "cell_type": "code",
   "execution_count": 252,
   "metadata": {},
   "outputs": [],
   "source": [
    "from sklearn.model_selection import train_test_split\n",
    "\n",
    "#Create training and validation set for our preprocessed dataset.\n",
    "X_train, X_val, t_train, t_val = train_test_split(X[:25000], t[:25000], random_state=1, test_size=0.25)\n",
    "\n",
    "#Create training and validation set for undummified dataset.\n",
    "Xun_train, Xun_val, tun_train, tun_val = train_test_split(X_undum[:25000], t[:25000], random_state=1, test_size=0.25)"
   ]
  },
  {
   "cell_type": "markdown",
   "metadata": {},
   "source": [
    "## Oversamplen\n",
    "\n",
    "<span style=\"color:red\"> The dataset contains only 22% defaults, which makes the dataset very unbalanced. We tried to rebalance the dataset with SMOTE but this decreased the accuracy significantly.</span>"
   ]
  },
  {
   "cell_type": "code",
   "execution_count": 253,
   "metadata": {},
   "outputs": [],
   "source": [
    "from imblearn.over_sampling import SMOTE\n",
    "#Resample training data\n",
    "#X_train, t_train = SMOTE(0.5).fit_resample(X_train, t_train)\n"
   ]
  },
  {
   "cell_type": "markdown",
   "metadata": {},
   "source": [
    "<span style=\"color:red\">Show oversampled frequencies in our trainingset</span>"
   ]
  },
  {
   "cell_type": "code",
   "execution_count": 254,
   "metadata": {},
   "outputs": [
    {
     "name": "stdout",
     "output_type": "stream",
     "text": [
      "0.0    0.778187\n",
      "1.0    0.221813\n",
      "dtype: float64\n"
     ]
    },
    {
     "data": {
      "image/png": "[encoded data removed]",
      "text/plain": [
       "<Figure size 432x432 with 1 Axes>"
      ]
     },
     "metadata": {},
     "output_type": "display_data"
    }
   ],
   "source": [
    "prr = pd.Series(t_train.reshape(-1))\n",
    "\n",
    "\n",
    "freq=prr.value_counts()/(len(prr)-prr.isnull().sum())\n",
    "freq.plot(kind='pie',title='Probability of default',figsize=(6, 6)); \n",
    "print(freq)\n"
   ]
  },
  {
   "cell_type": "markdown",
   "metadata": {},
   "source": [
    "# Logistic regression\n",
    "\n",
    "Let's start with a basic logistic regression as our baseline.\n",
    "\n",
    "<span style=\"color:red\">For a simple logistic regression, we compare undummified and dummified data, which shows an increase in accuracy and confirms our expectation.</span>"
   ]
  },
  {
   "cell_type": "code",
   "execution_count": 255,
   "metadata": {},
   "outputs": [
    {
     "name": "stdout",
     "output_type": "stream",
     "text": [
      "Accuracy Logistic regression dummified: 0.824\n"
     ]
    },
    {
     "data": {
      "image/png": "[encoded data removed]",
      "text/plain": [
       "<Figure size 432x288 with 2 Axes>"
      ]
     },
     "metadata": {
      "needs_background": "light"
     },
     "output_type": "display_data"
    },
    {
     "name": "stdout",
     "output_type": "stream",
     "text": [
      "Accuracy Logistic regression undummified: 0.815\n"
     ]
    },
    {
     "data": {
      "image/png": "[encoded data removed]",
      "text/plain": [
       "<Figure size 432x288 with 2 Axes>"
      ]
     },
     "metadata": {
      "needs_background": "light"
     },
     "output_type": "display_data"
    }
   ],
   "source": [
    "from sklearn.linear_model import LogisticRegression\n",
    "from sklearn.metrics import confusion_matrix\n",
    "from sklearn.metrics import accuracy_score\n",
    "\n",
    "#Train model on our processed data\n",
    "clf = LogisticRegression(random_state=1, solver='lbfgs',C=1E9,max_iter=1000)    # almost no regularization\n",
    "clf.fit(X_train, t_train)     # fit the model\n",
    "t_pred=clf.predict(X_val)     # predict taget variable for the validation set\n",
    "acc_LR=accuracy_score(t_val, t_pred)   # determine accuracy\n",
    "print(f'Accuracy Logistic regression dummified: {acc_LR:.3f}')\n",
    "cnf_matrix = confusion_matrix(t_val, t_pred)\n",
    "class_names = [0,1]; plt.figure()\n",
    "plot_confusion_matrix(cnf_matrix, classes=class_names, title='Confusion matrix');plt.show()\n",
    "\n",
    "\n",
    "#Train model on undummified data\n",
    "clf = LogisticRegression(random_state=1, solver='lbfgs',C=1E9,max_iter=1000)    # almost no regularization\n",
    "clf.fit(Xun_train, tun_train)     # fit the model\n",
    "tun_pred=clf.predict(Xun_val)     # predict taget variable for the validation set\n",
    "acc_2=accuracy_score(tun_val, tun_pred)   # determine accuracy\n",
    "print(f'Accuracy Logistic regression undummified: {acc_2:.3f}')\n",
    "cnf_matrix = confusion_matrix(tun_val, tun_pred)\n",
    "class_names = [0,1]; plt.figure()\n",
    "\n",
    "plot_confusion_matrix(cnf_matrix, classes=class_names, title='Confusion matrix');plt.show()"
   ]
  },
  {
   "cell_type": "markdown",
   "metadata": {},
   "source": [
    "# Basic Neural Network (one-hidden-layer neural network )\n",
    "\n",
    "- Note: you can just use `Keras` to train your Network.\n",
    "- Did you check convergence?\n",
    "\n",
    "<span style=\"color:red\">We use a simple model with 2 hidden units, stochastic gradient descent optimizer and batch_size of 128. The plots show that it converges within 500 epochs.</span>"
   ]
  },
  {
   "cell_type": "code",
   "execution_count": 272,
   "metadata": {},
   "outputs": [],
   "source": [
    "from tensorflow.keras.optimizers import SGD, RMSprop, Adam\n",
    "from tensorflow.keras.models import Sequential\n",
    "from tensorflow.keras.layers import Dense, Dropout, Flatten, ActivityRegularization\n",
    "\n",
    "model = Sequential()\n",
    "model.add(Dense(units=2,activation='tanh')) #hidden layer\n",
    "model.add(Dense(units=1, activation='tanh')) #output layer\n",
    "\n",
    "sgd = SGD(learning_rate=0.01, momentum=0.0, nesterov=False) #sgd classifier                     \n",
    "model.compile(loss='binary_crossentropy',optimizer='sgd',metrics=['accuracy']) #compile model\n",
    "\n",
    "history = model.fit(X_train,t_train,epochs=int(100),batch_size=128,verbose=0,validation_data=(X_val,t_val))"
   ]
  },
  {
   "cell_type": "code",
   "execution_count": 273,
   "metadata": {},
   "outputs": [
    {
     "name": "stdout",
     "output_type": "stream",
     "text": [
      "Accuracy NN: 0.817\n"
     ]
    },
    {
     "data": {
      "image/png": "[encoded data removed]",
      "text/plain": [
       "<Figure size 1080x360 with 1 Axes>"
      ]
     },
     "metadata": {
      "needs_background": "light"
     },
     "output_type": "display_data"
    },
    {
     "data": {
      "image/png": "[encoded data removed]",
      "text/plain": [
       "<Figure size 432x288 with 2 Axes>"
      ]
     },
     "metadata": {
      "needs_background": "light"
     },
     "output_type": "display_data"
    }
   ],
   "source": [
    "#Visualize results\n",
    "loss, acc_NN = model.evaluate(X_val,t_val,verbose=0)\n",
    "print(f'Accuracy NN: {acc_NN:.3f}')\n",
    "# Plot training & validation accuracy values\n",
    "fig = plt.figure(figsize=[15,5])\n",
    "ax1 = fig.add_subplot(1,1,1) \n",
    "ax1.plot(history.history['accuracy'])\n",
    "ax1.plot(history.history['val_accuracy'])\n",
    "ax1.set_title('Model accuracy')\n",
    "ax1.set_ylabel('Accuracy')\n",
    "ax1.set_xlabel('Epoch')\n",
    "ax1.legend(['Train', 'Test'], loc='upper left')\n",
    "\n",
    "t_pred=model.predict_classes(X_val)     # predict taget variable for the validation set\n",
    "cnf_matrix = confusion_matrix(t_val, t_pred)\n",
    "class_names = [0,1]; plt.figure()\n",
    "plot_confusion_matrix(cnf_matrix, classes=class_names, title='Confusion matrix');plt.show()\n"
   ]
  },
  {
   "cell_type": "markdown",
   "metadata": {},
   "source": [
    "# Basic Random forest\n",
    "\n",
    "- Also try to use undummified data, so let the decision tree decide on the splitting.\n",
    "\n",
    "<span style=\"color:red\">Both dummified and undummified data did not reach a high accuracy as the Neural Network did.</span>"
   ]
  },
  {
   "cell_type": "code",
   "execution_count": 227,
   "metadata": {},
   "outputs": [
    {
     "name": "stdout",
     "output_type": "stream",
     "text": [
      "Accuracy with RF: 0.811 \n"
     ]
    },
    {
     "data": {
      "image/png": "[encoded data removed]",
      "text/plain": [
       "<Figure size 432x288 with 2 Axes>"
      ]
     },
     "metadata": {
      "needs_background": "light"
     },
     "output_type": "display_data"
    }
   ],
   "source": [
    "from sklearn.ensemble import RandomForestClassifier\n",
    "from sklearn.metrics import mean_squared_error, log_loss\n",
    "from sklearn.model_selection import GridSearchCV\n",
    "\n",
    "rf = RandomForestClassifier(n_estimators=20, bootstrap=True, max_features='auto', criterion=\"entropy\",\n",
    "        max_depth=None, min_samples_leaf=1, n_jobs=-1, random_state=42)\n",
    "\n",
    "rf.fit(X_train, t_train.ravel())\n",
    "t_pred=rf.predict(X_val)\n",
    "\n",
    "\n",
    "acc_RF = accuracy_score(t_val,t_pred)\n",
    "print(f'Accuracy with RF: {acc_RF:.3f} ')\n",
    "\n",
    "cnf_matrix = confusion_matrix(t_val, t_pred)\n",
    "class_names = [0,1]; plt.figure()\n",
    "plot_confusion_matrix(cnf_matrix, classes=class_names, title='Confusion matrix');plt.show()"
   ]
  },
  {
   "cell_type": "code",
   "execution_count": 228,
   "metadata": {},
   "outputs": [
    {
     "name": "stdout",
     "output_type": "stream",
     "text": [
      "Accuracy with RF with undummified data: 0.813 \n"
     ]
    },
    {
     "data": {
      "image/png": "[encoded data removed]",
      "text/plain": [
       "<Figure size 432x288 with 2 Axes>"
      ]
     },
     "metadata": {
      "needs_background": "light"
     },
     "output_type": "display_data"
    }
   ],
   "source": [
    "rf = RandomForestClassifier(n_estimators=20, bootstrap=True, max_features='auto', criterion=\"entropy\",\n",
    "        max_depth=None, min_samples_leaf=1, n_jobs=-1, random_state=42)\n",
    "\n",
    "rf.fit(Xun_train, tun_train.ravel())\n",
    "tun_pred=rf.predict(Xun_val)\n",
    "\n",
    "acc_RF2 = accuracy_score(tun_val,tun_pred)\n",
    "print(f'Accuracy with RF with undummified data: {acc_RF2:.3f} ')\n",
    "\n",
    "cnf_matrix = confusion_matrix(tun_val, tun_pred)\n",
    "class_names = [0,1]; plt.figure()\n",
    "plot_confusion_matrix(cnf_matrix, classes=class_names, title='Confusion matrix');plt.show()\n"
   ]
  },
  {
   "cell_type": "markdown",
   "metadata": {},
   "source": [
    "### Gridsearch\n",
    "\n",
    "<span style=\"color:red\">We've also gridsearched Random Forests with undummified data, als undummified data reached higher accuracy in the random forest. However, this did not result in higher accuracy.</span>"
   ]
  },
  {
   "cell_type": "code",
   "execution_count": 139,
   "metadata": {},
   "outputs": [
    {
     "name": "stdout",
     "output_type": "stream",
     "text": [
      "Fitting 3 folds for each of 48 candidates, totalling 144 fits\n"
     ]
    },
    {
     "name": "stderr",
     "output_type": "stream",
     "text": [
      "[Parallel(n_jobs=-1)]: Using backend LokyBackend with 8 concurrent workers.\n",
      "[Parallel(n_jobs=-1)]: Done   2 tasks      | elapsed:    9.9s\n",
      "[Parallel(n_jobs=-1)]: Done   9 tasks      | elapsed:   27.5s\n",
      "[Parallel(n_jobs=-1)]: Done  16 tasks      | elapsed:   53.1s\n",
      "[Parallel(n_jobs=-1)]: Done  25 tasks      | elapsed:  1.3min\n"
     ]
    },
    {
     "ename": "KeyboardInterrupt",
     "evalue": "",
     "output_type": "error",
     "traceback": [
      "\u001b[0;31m---------------------------------------------------------------------------\u001b[0m",
      "\u001b[0;31mKeyboardInterrupt\u001b[0m                         Traceback (most recent call last)",
      "\u001b[0;32m<ipython-input-139-a66e4d859b6d>\u001b[0m in \u001b[0;36m<module>\u001b[0;34m\u001b[0m\n\u001b[1;32m     12\u001b[0m                           cv = 3, n_jobs = -1, verbose = 10)\n\u001b[1;32m     13\u001b[0m \u001b[0;34m\u001b[0m\u001b[0m\n\u001b[0;32m---> 14\u001b[0;31m \u001b[0mrf_grid\u001b[0m\u001b[0;34m.\u001b[0m\u001b[0mfit\u001b[0m\u001b[0;34m(\u001b[0m\u001b[0mXun_train\u001b[0m\u001b[0;34m,\u001b[0m \u001b[0mtun_train\u001b[0m\u001b[0;34m.\u001b[0m\u001b[0mravel\u001b[0m\u001b[0;34m(\u001b[0m\u001b[0;34m)\u001b[0m\u001b[0;34m)\u001b[0m\u001b[0;34m\u001b[0m\u001b[0;34m\u001b[0m\u001b[0m\n\u001b[0m\u001b[1;32m     15\u001b[0m \u001b[0mprint\u001b[0m\u001b[0;34m(\u001b[0m\u001b[0mrf_grid\u001b[0m\u001b[0;34m.\u001b[0m\u001b[0mbest_params_\u001b[0m\u001b[0;34m)\u001b[0m\u001b[0;34m\u001b[0m\u001b[0;34m\u001b[0m\u001b[0m\n\u001b[1;32m     16\u001b[0m \u001b[0;34m\u001b[0m\u001b[0m\n",
      "\u001b[0;32m//anaconda3/lib/python3.7/site-packages/sklearn/model_selection/_search.py\u001b[0m in \u001b[0;36mfit\u001b[0;34m(self, X, y, groups, **fit_params)\u001b[0m\n\u001b[1;32m    685\u001b[0m                 \u001b[0;32mreturn\u001b[0m \u001b[0mresults\u001b[0m\u001b[0;34m\u001b[0m\u001b[0;34m\u001b[0m\u001b[0m\n\u001b[1;32m    686\u001b[0m \u001b[0;34m\u001b[0m\u001b[0m\n\u001b[0;32m--> 687\u001b[0;31m             \u001b[0mself\u001b[0m\u001b[0;34m.\u001b[0m\u001b[0m_run_search\u001b[0m\u001b[0;34m(\u001b[0m\u001b[0mevaluate_candidates\u001b[0m\u001b[0;34m)\u001b[0m\u001b[0;34m\u001b[0m\u001b[0;34m\u001b[0m\u001b[0m\n\u001b[0m\u001b[1;32m    688\u001b[0m \u001b[0;34m\u001b[0m\u001b[0m\n\u001b[1;32m    689\u001b[0m         \u001b[0;31m# For multi-metric evaluation, store the best_index_, best_params_ and\u001b[0m\u001b[0;34m\u001b[0m\u001b[0;34m\u001b[0m\u001b[0;34m\u001b[0m\u001b[0m\n",
      "\u001b[0;32m//anaconda3/lib/python3.7/site-packages/sklearn/model_selection/_search.py\u001b[0m in \u001b[0;36m_run_search\u001b[0;34m(self, evaluate_candidates)\u001b[0m\n\u001b[1;32m   1146\u001b[0m     \u001b[0;32mdef\u001b[0m \u001b[0m_run_search\u001b[0m\u001b[0;34m(\u001b[0m\u001b[0mself\u001b[0m\u001b[0;34m,\u001b[0m \u001b[0mevaluate_candidates\u001b[0m\u001b[0;34m)\u001b[0m\u001b[0;34m:\u001b[0m\u001b[0;34m\u001b[0m\u001b[0;34m\u001b[0m\u001b[0m\n\u001b[1;32m   1147\u001b[0m         \u001b[0;34m\"\"\"Search all candidates in param_grid\"\"\"\u001b[0m\u001b[0;34m\u001b[0m\u001b[0;34m\u001b[0m\u001b[0m\n\u001b[0;32m-> 1148\u001b[0;31m         \u001b[0mevaluate_candidates\u001b[0m\u001b[0;34m(\u001b[0m\u001b[0mParameterGrid\u001b[0m\u001b[0;34m(\u001b[0m\u001b[0mself\u001b[0m\u001b[0;34m.\u001b[0m\u001b[0mparam_grid\u001b[0m\u001b[0;34m)\u001b[0m\u001b[0;34m)\u001b[0m\u001b[0;34m\u001b[0m\u001b[0;34m\u001b[0m\u001b[0m\n\u001b[0m\u001b[1;32m   1149\u001b[0m \u001b[0;34m\u001b[0m\u001b[0m\n\u001b[1;32m   1150\u001b[0m \u001b[0;34m\u001b[0m\u001b[0m\n",
      "\u001b[0;32m//anaconda3/lib/python3.7/site-packages/sklearn/model_selection/_search.py\u001b[0m in \u001b[0;36mevaluate_candidates\u001b[0;34m(candidate_params)\u001b[0m\n\u001b[1;32m    664\u001b[0m                                \u001b[0;32mfor\u001b[0m \u001b[0mparameters\u001b[0m\u001b[0;34m,\u001b[0m \u001b[0;34m(\u001b[0m\u001b[0mtrain\u001b[0m\u001b[0;34m,\u001b[0m \u001b[0mtest\u001b[0m\u001b[0;34m)\u001b[0m\u001b[0;34m\u001b[0m\u001b[0;34m\u001b[0m\u001b[0m\n\u001b[1;32m    665\u001b[0m                                in product(candidate_params,\n\u001b[0;32m--> 666\u001b[0;31m                                           cv.split(X, y, groups)))\n\u001b[0m\u001b[1;32m    667\u001b[0m \u001b[0;34m\u001b[0m\u001b[0m\n\u001b[1;32m    668\u001b[0m                 \u001b[0;32mif\u001b[0m \u001b[0mlen\u001b[0m\u001b[0;34m(\u001b[0m\u001b[0mout\u001b[0m\u001b[0;34m)\u001b[0m \u001b[0;34m<\u001b[0m \u001b[0;36m1\u001b[0m\u001b[0;34m:\u001b[0m\u001b[0;34m\u001b[0m\u001b[0;34m\u001b[0m\u001b[0m\n",
      "\u001b[0;32m//anaconda3/lib/python3.7/site-packages/joblib/parallel.py\u001b[0m in \u001b[0;36m__call__\u001b[0;34m(self, iterable)\u001b[0m\n\u001b[1;32m    932\u001b[0m \u001b[0;34m\u001b[0m\u001b[0m\n\u001b[1;32m    933\u001b[0m             \u001b[0;32mwith\u001b[0m \u001b[0mself\u001b[0m\u001b[0;34m.\u001b[0m\u001b[0m_backend\u001b[0m\u001b[0;34m.\u001b[0m\u001b[0mretrieval_context\u001b[0m\u001b[0;34m(\u001b[0m\u001b[0;34m)\u001b[0m\u001b[0;34m:\u001b[0m\u001b[0;34m\u001b[0m\u001b[0;34m\u001b[0m\u001b[0m\n\u001b[0;32m--> 934\u001b[0;31m                 \u001b[0mself\u001b[0m\u001b[0;34m.\u001b[0m\u001b[0mretrieve\u001b[0m\u001b[0;34m(\u001b[0m\u001b[0;34m)\u001b[0m\u001b[0;34m\u001b[0m\u001b[0;34m\u001b[0m\u001b[0m\n\u001b[0m\u001b[1;32m    935\u001b[0m             \u001b[0;31m# Make sure that we get a last message telling us we are done\u001b[0m\u001b[0;34m\u001b[0m\u001b[0;34m\u001b[0m\u001b[0;34m\u001b[0m\u001b[0m\n\u001b[1;32m    936\u001b[0m             \u001b[0melapsed_time\u001b[0m \u001b[0;34m=\u001b[0m \u001b[0mtime\u001b[0m\u001b[0;34m.\u001b[0m\u001b[0mtime\u001b[0m\u001b[0;34m(\u001b[0m\u001b[0;34m)\u001b[0m \u001b[0;34m-\u001b[0m \u001b[0mself\u001b[0m\u001b[0;34m.\u001b[0m\u001b[0m_start_time\u001b[0m\u001b[0;34m\u001b[0m\u001b[0;34m\u001b[0m\u001b[0m\n",
      "\u001b[0;32m//anaconda3/lib/python3.7/site-packages/joblib/parallel.py\u001b[0m in \u001b[0;36mretrieve\u001b[0;34m(self)\u001b[0m\n\u001b[1;32m    831\u001b[0m             \u001b[0;32mtry\u001b[0m\u001b[0;34m:\u001b[0m\u001b[0;34m\u001b[0m\u001b[0;34m\u001b[0m\u001b[0m\n\u001b[1;32m    832\u001b[0m                 \u001b[0;32mif\u001b[0m \u001b[0mgetattr\u001b[0m\u001b[0;34m(\u001b[0m\u001b[0mself\u001b[0m\u001b[0;34m.\u001b[0m\u001b[0m_backend\u001b[0m\u001b[0;34m,\u001b[0m \u001b[0;34m'supports_timeout'\u001b[0m\u001b[0;34m,\u001b[0m \u001b[0;32mFalse\u001b[0m\u001b[0;34m)\u001b[0m\u001b[0;34m:\u001b[0m\u001b[0;34m\u001b[0m\u001b[0;34m\u001b[0m\u001b[0m\n\u001b[0;32m--> 833\u001b[0;31m                     \u001b[0mself\u001b[0m\u001b[0;34m.\u001b[0m\u001b[0m_output\u001b[0m\u001b[0;34m.\u001b[0m\u001b[0mextend\u001b[0m\u001b[0;34m(\u001b[0m\u001b[0mjob\u001b[0m\u001b[0;34m.\u001b[0m\u001b[0mget\u001b[0m\u001b[0;34m(\u001b[0m\u001b[0mtimeout\u001b[0m\u001b[0;34m=\u001b[0m\u001b[0mself\u001b[0m\u001b[0;34m.\u001b[0m\u001b[0mtimeout\u001b[0m\u001b[0;34m)\u001b[0m\u001b[0;34m)\u001b[0m\u001b[0;34m\u001b[0m\u001b[0;34m\u001b[0m\u001b[0m\n\u001b[0m\u001b[1;32m    834\u001b[0m                 \u001b[0;32melse\u001b[0m\u001b[0;34m:\u001b[0m\u001b[0;34m\u001b[0m\u001b[0;34m\u001b[0m\u001b[0m\n\u001b[1;32m    835\u001b[0m                     \u001b[0mself\u001b[0m\u001b[0;34m.\u001b[0m\u001b[0m_output\u001b[0m\u001b[0;34m.\u001b[0m\u001b[0mextend\u001b[0m\u001b[0;34m(\u001b[0m\u001b[0mjob\u001b[0m\u001b[0;34m.\u001b[0m\u001b[0mget\u001b[0m\u001b[0;34m(\u001b[0m\u001b[0;34m)\u001b[0m\u001b[0;34m)\u001b[0m\u001b[0;34m\u001b[0m\u001b[0;34m\u001b[0m\u001b[0m\n",
      "\u001b[0;32m//anaconda3/lib/python3.7/site-packages/joblib/_parallel_backends.py\u001b[0m in \u001b[0;36mwrap_future_result\u001b[0;34m(future, timeout)\u001b[0m\n\u001b[1;32m    519\u001b[0m         AsyncResults.get from multiprocessing.\"\"\"\n\u001b[1;32m    520\u001b[0m         \u001b[0;32mtry\u001b[0m\u001b[0;34m:\u001b[0m\u001b[0;34m\u001b[0m\u001b[0;34m\u001b[0m\u001b[0m\n\u001b[0;32m--> 521\u001b[0;31m             \u001b[0;32mreturn\u001b[0m \u001b[0mfuture\u001b[0m\u001b[0;34m.\u001b[0m\u001b[0mresult\u001b[0m\u001b[0;34m(\u001b[0m\u001b[0mtimeout\u001b[0m\u001b[0;34m=\u001b[0m\u001b[0mtimeout\u001b[0m\u001b[0;34m)\u001b[0m\u001b[0;34m\u001b[0m\u001b[0;34m\u001b[0m\u001b[0m\n\u001b[0m\u001b[1;32m    522\u001b[0m         \u001b[0;32mexcept\u001b[0m \u001b[0mLokyTimeoutError\u001b[0m\u001b[0;34m:\u001b[0m\u001b[0;34m\u001b[0m\u001b[0;34m\u001b[0m\u001b[0m\n\u001b[1;32m    523\u001b[0m             \u001b[0;32mraise\u001b[0m \u001b[0mTimeoutError\u001b[0m\u001b[0;34m(\u001b[0m\u001b[0;34m)\u001b[0m\u001b[0;34m\u001b[0m\u001b[0;34m\u001b[0m\u001b[0m\n",
      "\u001b[0;32m//anaconda3/lib/python3.7/concurrent/futures/_base.py\u001b[0m in \u001b[0;36mresult\u001b[0;34m(self, timeout)\u001b[0m\n\u001b[1;32m    425\u001b[0m                 \u001b[0;32mreturn\u001b[0m \u001b[0mself\u001b[0m\u001b[0;34m.\u001b[0m\u001b[0m__get_result\u001b[0m\u001b[0;34m(\u001b[0m\u001b[0;34m)\u001b[0m\u001b[0;34m\u001b[0m\u001b[0;34m\u001b[0m\u001b[0m\n\u001b[1;32m    426\u001b[0m \u001b[0;34m\u001b[0m\u001b[0m\n\u001b[0;32m--> 427\u001b[0;31m             \u001b[0mself\u001b[0m\u001b[0;34m.\u001b[0m\u001b[0m_condition\u001b[0m\u001b[0;34m.\u001b[0m\u001b[0mwait\u001b[0m\u001b[0;34m(\u001b[0m\u001b[0mtimeout\u001b[0m\u001b[0;34m)\u001b[0m\u001b[0;34m\u001b[0m\u001b[0;34m\u001b[0m\u001b[0m\n\u001b[0m\u001b[1;32m    428\u001b[0m \u001b[0;34m\u001b[0m\u001b[0m\n\u001b[1;32m    429\u001b[0m             \u001b[0;32mif\u001b[0m \u001b[0mself\u001b[0m\u001b[0;34m.\u001b[0m\u001b[0m_state\u001b[0m \u001b[0;32min\u001b[0m \u001b[0;34m[\u001b[0m\u001b[0mCANCELLED\u001b[0m\u001b[0;34m,\u001b[0m \u001b[0mCANCELLED_AND_NOTIFIED\u001b[0m\u001b[0;34m]\u001b[0m\u001b[0;34m:\u001b[0m\u001b[0;34m\u001b[0m\u001b[0;34m\u001b[0m\u001b[0m\n",
      "\u001b[0;32m//anaconda3/lib/python3.7/threading.py\u001b[0m in \u001b[0;36mwait\u001b[0;34m(self, timeout)\u001b[0m\n\u001b[1;32m    294\u001b[0m         \u001b[0;32mtry\u001b[0m\u001b[0;34m:\u001b[0m    \u001b[0;31m# restore state no matter what (e.g., KeyboardInterrupt)\u001b[0m\u001b[0;34m\u001b[0m\u001b[0;34m\u001b[0m\u001b[0m\n\u001b[1;32m    295\u001b[0m             \u001b[0;32mif\u001b[0m \u001b[0mtimeout\u001b[0m \u001b[0;32mis\u001b[0m \u001b[0;32mNone\u001b[0m\u001b[0;34m:\u001b[0m\u001b[0;34m\u001b[0m\u001b[0;34m\u001b[0m\u001b[0m\n\u001b[0;32m--> 296\u001b[0;31m                 \u001b[0mwaiter\u001b[0m\u001b[0;34m.\u001b[0m\u001b[0macquire\u001b[0m\u001b[0;34m(\u001b[0m\u001b[0;34m)\u001b[0m\u001b[0;34m\u001b[0m\u001b[0;34m\u001b[0m\u001b[0m\n\u001b[0m\u001b[1;32m    297\u001b[0m                 \u001b[0mgotit\u001b[0m \u001b[0;34m=\u001b[0m \u001b[0;32mTrue\u001b[0m\u001b[0;34m\u001b[0m\u001b[0;34m\u001b[0m\u001b[0m\n\u001b[1;32m    298\u001b[0m             \u001b[0;32melse\u001b[0m\u001b[0;34m:\u001b[0m\u001b[0;34m\u001b[0m\u001b[0;34m\u001b[0m\u001b[0m\n",
      "\u001b[0;31mKeyboardInterrupt\u001b[0m: "
     ]
    }
   ],
   "source": [
    "param_grid = {\n",
    "    'bootstrap': [True],\n",
    "    'max_depth': [40, 60, 80, 100],\n",
    "    'max_features': ['auto'],\n",
    "    'min_samples_leaf': [1, 4],\n",
    "    'min_samples_split': [2, 4],\n",
    "    'n_estimators': [200, 500, 1000]\n",
    "}\n",
    "\n",
    "# Instantiate the grid search model\n",
    "rf_grid = GridSearchCV(estimator = RandomForestClassifier(), param_grid = param_grid, \n",
    "                          cv = 3, n_jobs = -1, verbose = 10)\n",
    "\n",
    "rf_grid.fit(Xun_train, tun_train.ravel())\n",
    "print(rf_grid.best_params_)\n",
    "\n",
    "t_pred=rf_grid.best_estimator_.predict(Xun_val)\n",
    "acc_gridRF = accuracy_score(tun_val,t_pred)\n",
    "print(f'Accuracy with RF and gridsearch: {acc_gridRF:.3f} ')\n",
    "    "
   ]
  },
  {
   "cell_type": "markdown",
   "metadata": {},
   "source": [
    "# Basic AdaBoost"
   ]
  },
  {
   "cell_type": "code",
   "execution_count": 229,
   "metadata": {},
   "outputs": [
    {
     "data": {
      "text/plain": [
       "AdaBoostClassifier(algorithm='SAMME.R',\n",
       "                   base_estimator=DecisionTreeClassifier(class_weight=None,\n",
       "                                                         criterion='gini',\n",
       "                                                         max_depth=None,\n",
       "                                                         max_features=None,\n",
       "                                                         max_leaf_nodes=None,\n",
       "                                                         min_impurity_decrease=0.0,\n",
       "                                                         min_impurity_split=None,\n",
       "                                                         min_samples_leaf=1,\n",
       "                                                         min_samples_split=2,\n",
       "                                                         min_weight_fraction_leaf=0.0,\n",
       "                                                         presort=False,\n",
       "                                                         random_state=None,\n",
       "                                                         splitter='best'),\n",
       "                   learning_rate=0.5, n_estimators=50, random_state=None)"
      ]
     },
     "execution_count": 229,
     "metadata": {},
     "output_type": "execute_result"
    }
   ],
   "source": [
    "# starter code\n",
    "from sklearn.ensemble import AdaBoostClassifier\n",
    "from sklearn.tree import DecisionTreeClassifier\n",
    "\n",
    "# simple fit\n",
    "AdaB = AdaBoostClassifier(\n",
    "    base_estimator = DecisionTreeClassifier(),\n",
    "    n_estimators=50, \n",
    "    learning_rate=0.5,\n",
    ")\n",
    "AdaB.fit(X_train,t_train.ravel())"
   ]
  },
  {
   "cell_type": "code",
   "execution_count": 230,
   "metadata": {},
   "outputs": [
    {
     "name": "stdout",
     "output_type": "stream",
     "text": [
      "Accuracy with AdaBoost: 0.784 \n"
     ]
    },
    {
     "data": {
      "image/png": "[encoded data removed]",
      "text/plain": [
       "<Figure size 432x288 with 2 Axes>"
      ]
     },
     "metadata": {
      "needs_background": "light"
     },
     "output_type": "display_data"
    }
   ],
   "source": [
    "t_pred=AdaB.predict(X_val)\n",
    "acc_ada = accuracy_score(t_val,t_pred)\n",
    "print(f'Accuracy with AdaBoost: {acc_ada:.3f} ')\n",
    "\n",
    "cnf_matrix = confusion_matrix(t_val, t_pred)\n",
    "class_names = [0,1]; plt.figure()\n",
    "plot_confusion_matrix(cnf_matrix, classes=class_names, title='Confusion matrix');plt.show()\n",
    "\n"
   ]
  },
  {
   "cell_type": "markdown",
   "metadata": {},
   "source": [
    "### Gridsearch"
   ]
  },
  {
   "cell_type": "code",
   "execution_count": 143,
   "metadata": {},
   "outputs": [
    {
     "name": "stdout",
     "output_type": "stream",
     "text": [
      "Fitting 10 folds for each of 20 candidates, totalling 200 fits\n"
     ]
    },
    {
     "name": "stderr",
     "output_type": "stream",
     "text": [
      "[Parallel(n_jobs=-1)]: Using backend LokyBackend with 8 concurrent workers.\n",
      "[Parallel(n_jobs=-1)]: Done   2 tasks      | elapsed:    2.0s\n",
      "[Parallel(n_jobs=-1)]: Done  56 tasks      | elapsed:    6.2s\n",
      "[Parallel(n_jobs=-1)]: Done 146 tasks      | elapsed:   34.1s\n",
      "[Parallel(n_jobs=-1)]: Done 200 out of 200 | elapsed:  2.2min finished\n"
     ]
    },
    {
     "name": "stdout",
     "output_type": "stream",
     "text": [
      "{'base_estimator__max_depth': None, 'n_estimators': 50}\n",
      "Accuracy with AdaBoost: 0.787 \n"
     ]
    }
   ],
   "source": [
    "param_grid = {\n",
    "    \"base_estimator__max_depth\" : [1,2,5,None],\n",
    "    \"n_estimators\": [1,2,10,20,50],\n",
    "}\n",
    "\n",
    "AdaB_grid = GridSearchCV(estimator = AdaBoostClassifier(base_estimator=DecisionTreeClassifier()), param_grid = param_grid, \n",
    "                          cv = 10, n_jobs = -1, verbose = 5)\n",
    "AdaB_grid.fit(X_train, t_train.ravel())\n",
    "print(AdaB_grid.best_params_)\n",
    "\n",
    "t_pred=AdaB_grid.best_estimator_.predict(X_val)\n",
    "acc_adagrid = accuracy_score(t_val,t_pred)\n",
    "\n",
    "print(f'Accuracy with AdaBoost: {acc_adagrid:.3f} ')"
   ]
  },
  {
   "cell_type": "markdown",
   "metadata": {},
   "source": [
    "# Advanced Classifier\n",
    "\n",
    "**Choose one** of the above basic classifiers (which seems most promising to you) and optimize as much as possible. You can think of:\n",
    "- optimize hyper parameters/regularization using CV validation\n",
    "- optimize your dummification/binning with respect to the target variable\n",
    "- including interactions between (transformed) features.\n",
    "\n",
    "Please  make  sure  all  steps  are  well  motivated  and  presented  in  a  clear and structured way."
   ]
  },
  {
   "cell_type": "code",
   "execution_count": 269,
   "metadata": {},
   "outputs": [
    {
     "name": "stdout",
     "output_type": "stream",
     "text": [
      "Accuracy with LR dummified: 0.824\n",
      "Accuracy with LR undummified: 0.815 \n",
      "\n",
      "Accuracy with NN dummified: 0.824 \n",
      "\n",
      "Accuracy with RF dummified: 0.811 \n",
      "Accuracy with RF undummified: 0.813 \n",
      "\n",
      "Accuracy with AdaBoost dummified: 0.784 \n"
     ]
    }
   ],
   "source": [
    "#Basic model accuracies\n",
    "print(f'Accuracy with LR dummified: {acc_LR:.3f}')\n",
    "print(f'Accuracy with LR undummified: {acc_2:.3f} \\n')\n",
    "print(f'Accuracy with NN dummified: {acc_NN:.3f} \\n')\n",
    "print(f'Accuracy with RF dummified: {acc_RF:.3f} ')\n",
    "print(f'Accuracy with RF undummified: {acc_RF2:.3f} \\n')\n",
    "print(f'Accuracy with AdaBoost dummified: {acc_ada:.3f} ')\n"
   ]
  },
  {
   "cell_type": "markdown",
   "metadata": {},
   "source": [
    "## Introduction\n",
    "Our research started with the investigation of the given X-variables. A couple of variables (X2-X4) had to be dummified immediately. Other variables seemed to behave better when converted into binary variables (X6-X11). We started by creating a dummified and an undummified dataset, because Random Forests behave better with undummified data for example. \n",
    "\n",
    "The 4 models we consider afterwards are Logistic Regression, Neural Network, Random Forest and AdaBoost. The above block shows a couple of found accuracy scores for the models, trained with dummified and undummified data. Only Random Forest seems to behave better with undummified data, however it has lower accuracy than Logistic Regression and Neural Network (NN has around 0.823 accuracy with undummified data in simple model). AdaBoost also has a very low accuracy compared to the other models.\n",
    "\n",
    "## Basic models\n",
    "\n",
    "### Logistic Regression\n",
    "Although the accuracy of the logistic regression model with dummified features shows a decent accuracy score,\n",
    "the model is confined in its possibilities and this is why we will not advance with this model.\n",
    "\n",
    "### Random Forest\n",
    "When trying out the Random Forest, we found that it barely (or negatively) reacted to preprocessing of the dataset, such as interaction terms and dummies. The fact that the RF model does not have a lot of preprocsessing possibilities and has a relatively low accuracy (even when gridsearched) resulted in not advancing this model.\n",
    "\n",
    "### Adaboost\n",
    "Adaboost has a significantly lower accuracy, even with the application of a gridsearch. This model will not be used either. \n",
    "\n",
    "### Extra tests\n",
    "As mentioned before, we've tried undummified and dummified data for random forest, and we've also gridsearched the Random Forest and AdaBoost model over its parameters. These methods did not result in a better accuracy. \n",
    "\n",
    "## Advanced Classifier: Neural Network\n",
    "We choose to continue with the Neural Network as it promises to be the appropriate model to have the most accurate prediction, due to the versatility of the parameters and the information that can be extracted from the model.\n",
    "\n",
    "### Data preprocessing\n",
    "With regard to preprocessing the data, we choose to convert X6-11 to binary variables as mentioned before. From the histograms plotted earlier in the script, we observed that X6-X11 have a jump in credit default for payment delays of two months or longer. This is why we we dummify X6-X11 to be 0 for values smaller than 2 and 1 for values of 2 or higher. \n",
    "\n",
    "Including interaction terms in the data results in a network that starts overfitting, as the training accuracy is not followed by it's test accuracy. We decide not to include interaction terms as part of data preprocessing.\n",
    "\n",
    "### The network\n",
    "We use a sequential network as we have binary targets. Trial and error shows that the highest accuracy resulted from a network with 1 hidden layer and 5 units, where the 'adam' optimizer is used and batch size is set to 500 (which seems to be optimal). Activation functions for the model are tanh functions.\n",
    "\n",
    "### Optimiser\n",
    "For the optimiser, we choose the Adam optimiser with the optimal parameters suggested by the original paper. This allows the use of higher batch size, which results in a batch-gradient that is more similar to the gradient of the total dataset. The optimisers RMSprop and SGD turned out to not be robust enough to handle the higher batch size.(See source 1 below). \n",
    "\n",
    "### Additional information \n",
    "Other options that we have tried, but resulted in less accurate models are \n",
    "Dense models with multiple layers\n",
    "Dense models with layers that contain a lot of units, followed by dropout to find the optimal combination of units.\n",
    "Dense models in combination with L1 and L2 regularization\n",
    "Dense models with optimisers RMSprop and SGD.\n",
    "\n",
    "1. https://machinelearningmastery.com/adam-optimization-algorithm-for-deep-learning/"
   ]
  },
  {
   "cell_type": "markdown",
   "metadata": {},
   "source": [
    "## Neural Network Advanced"
   ]
  },
  {
   "cell_type": "code",
   "execution_count": 274,
   "metadata": {},
   "outputs": [],
   "source": [
    "from tensorflow.keras.optimizers import SGD, RMSprop, Adam\n",
    "from tensorflow.keras.models import Sequential\n",
    "from tensorflow.keras.layers import Dense, Dropout, Flatten, ActivityRegularization\n",
    "\n",
    "model = Sequential()\n",
    "model.add(Dense(units=5,activation='tanh')) #hidden layer\n",
    "model.add(Dense(units=1, activation='tanh')) #output layer\n",
    "\n",
    "adam = Adam(learning_rate=0.001, beta_1=0.9, beta_2=0.99, amsgrad=False) #adam optimizer\n",
    "\n",
    "model.compile(loss='binary_crossentropy',optimizer='adam',metrics=['accuracy']) #compile model\n",
    "\n",
    "history = model.fit(X_train,t_train,epochs=int(1000),batch_size=500,verbose=0,validation_data=(X_val,t_val))"
   ]
  },
  {
   "cell_type": "code",
   "execution_count": 275,
   "metadata": {},
   "outputs": [
    {
     "name": "stdout",
     "output_type": "stream",
     "text": [
      "Accuracy: 0.828\n"
     ]
    },
    {
     "data": {
      "image/png": "[encoded data removed]",
      "text/plain": [
       "<Figure size 1080x360 with 1 Axes>"
      ]
     },
     "metadata": {
      "needs_background": "light"
     },
     "output_type": "display_data"
    },
    {
     "data": {
      "image/png": "[encoded data removed]",
      "text/plain": [
       "<Figure size 432x288 with 2 Axes>"
      ]
     },
     "metadata": {
      "needs_background": "light"
     },
     "output_type": "display_data"
    }
   ],
   "source": [
    "#Visualize results\n",
    "loss, acc = model.evaluate(X_val,t_val,verbose=0)\n",
    "print(f'Accuracy: {acc:.3f}')\n",
    "# Plot training & validation accuracy values\n",
    "fig = plt.figure(figsize=[15,5])\n",
    "ax1 = fig.add_subplot(1,1,1) \n",
    "ax1.plot(history.history['accuracy'])\n",
    "ax1.plot(history.history['val_accuracy'])\n",
    "ax1.set_title('Model accuracy')\n",
    "ax1.set_ylabel('Accuracy')\n",
    "ax1.set_xlabel('Epoch')\n",
    "ax1.legend(['Train', 'Test'], loc='upper left')\n",
    "\n",
    "t_pred=model.predict_classes(X_val)     # predict target variable for the validation set\n",
    "cnf_matrix = confusion_matrix(t_val, t_pred)\n",
    "class_names = [0,1]; plt.figure()\n",
    "plot_confusion_matrix(cnf_matrix, classes=class_names, title='Confusion matrix');plt.show()\n"
   ]
  },
  {
   "cell_type": "markdown",
   "metadata": {},
   "source": [
    "# Finally, generate your predictions for the test set and save them into your notebook\n",
    "\n",
    "Generate predictions for the last 5,000 observations (of the csv-file):\n",
    "- use the correct X-values! For instance, if you don't change the numpy matrix `X`, you can use `X[-5000:]` to make the predictions\n",
    "- think what properties your predictions should have (continuous or discrete)\n",
    "- of course, you can't determine the accuracy\n",
    "- if you have performed some transformations, please be sure to apply them also on the last 5K obs (as is done in the example above)\n",
    "- save your predictions in the variable `t_pred` and save them into your notebook using `%store t_pred`"
   ]
  },
  {
   "cell_type": "code",
   "execution_count": 276,
   "metadata": {},
   "outputs": [
    {
     "name": "stdout",
     "output_type": "stream",
     "text": [
      "Stored 't_pred' (ndarray)\n"
     ]
    }
   ],
   "source": [
    "t_pred=model.predict_classes(X[-5000:])\n",
    "%store t_pred"
   ]
  }
 ],
 "metadata": {
  "kernelspec": {
   "display_name": "Python 3",
   "language": "python",
   "name": "python3"
  },
  "language_info": {
   "codemirror_mode": {
    "name": "ipython",
    "version": 3
   },
   "file_extension": ".py",
   "mimetype": "text/x-python",
   "name": "python",
   "nbconvert_exporter": "python",
   "pygments_lexer": "ipython3",
   "version": "3.8.3"
  }
 },
 "nbformat": 4,
 "nbformat_minor": 2
}
